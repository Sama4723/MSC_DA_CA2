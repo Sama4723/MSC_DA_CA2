{
 "cells": [
  {
   "cell_type": "code",
   "execution_count": 4,
   "id": "f65fbb0c",
   "metadata": {},
   "outputs": [
    {
     "ename": "SyntaxError",
     "evalue": "invalid syntax (2508735264.py, line 3)",
     "output_type": "error",
     "traceback": [
      "\u001b[0;36m  File \u001b[0;32m\"/tmp/ipykernel_39809/2508735264.py\"\u001b[0;36m, line \u001b[0;32m3\u001b[0m\n\u001b[0;31m    font-size: 130%;\u001b[0m\n\u001b[0m                   ^\u001b[0m\n\u001b[0;31mSyntaxError\u001b[0m\u001b[0;31m:\u001b[0m invalid syntax\n"
     ]
    }
   ],
   "source": [
    "div#notebook p, div#notebook\n",
    "{\n",
    "    font-size: 130%;\n",
    "    line-height: 125%;\n",
    "}\n",
    ".rendered_html pre, .rendered_html table{\n",
    "    font-size:130%;\n",
    "    line-height: 125%;\n",
    "}\n",
    ".CodeMirror, .CodeMirror pre, .CodeMirror-dialog, .CodeMirror-dialog .CodeMirror-search-field, .terminal-app .terminal {\n",
    "    font-size: 130%;\n",
    "    line-height: 125%;\n",
    "}"
   ]
  },
  {
   "cell_type": "code",
   "execution_count": null,
   "id": "120308a3",
   "metadata": {},
   "outputs": [],
   "source": []
  }
 ],
 "metadata": {
  "kernelspec": {
   "display_name": "Python 3 (ipykernel)",
   "language": "python",
   "name": "python3"
  },
  "language_info": {
   "codemirror_mode": {
    "name": "ipython",
    "version": 3
   },
   "file_extension": ".py",
   "mimetype": "text/x-python",
   "name": "python",
   "nbconvert_exporter": "python",
   "pygments_lexer": "ipython3",
   "version": "3.9.13"
  }
 },
 "nbformat": 4,
 "nbformat_minor": 5
}
