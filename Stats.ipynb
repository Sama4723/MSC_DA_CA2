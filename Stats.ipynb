{
 "cells": [
  {
   "cell_type": "code",
   "execution_count": 1,
   "id": "f0335cad",
   "metadata": {},
   "outputs": [],
   "source": [
    "import pandas as pd\n",
    "import scipy.stats as st\n",
    "import statistics as stats\n",
    "import statsmodels.api as sm\n",
    "import numpy as np\n",
    "import matplotlib.pyplot as plt\n",
    "import seaborn as sns\n",
    "from statsmodels.formula.api import ols\n",
    "from scipy import stats\n",
    "import scipy as scipy\n",
    "import math\n",
    "%matplotlib inline\n",
    "from scipy.stats import norm\n",
    "from scipy.stats import binom"
   ]
  },
  {
   "cell_type": "markdown",
   "id": "cf15cb3a",
   "metadata": {},
   "source": [
    "# Describtive statistics"
   ]
  },
  {
   "cell_type": "code",
   "execution_count": 2,
   "id": "dad85852",
   "metadata": {},
   "outputs": [
    {
     "data": {
      "text/html": [
       "<div>\n",
       "<style scoped>\n",
       "    .dataframe tbody tr th:only-of-type {\n",
       "        vertical-align: middle;\n",
       "    }\n",
       "\n",
       "    .dataframe tbody tr th {\n",
       "        vertical-align: top;\n",
       "    }\n",
       "\n",
       "    .dataframe thead th {\n",
       "        text-align: right;\n",
       "    }\n",
       "</style>\n",
       "<table border=\"1\" class=\"dataframe\">\n",
       "  <thead>\n",
       "    <tr style=\"text-align: right;\">\n",
       "      <th></th>\n",
       "      <th>Unnamed: 0</th>\n",
       "      <th>index</th>\n",
       "      <th>Date of Sale (dd/mm/yyyy)</th>\n",
       "      <th>Address</th>\n",
       "      <th>Postal Code</th>\n",
       "      <th>County</th>\n",
       "      <th>Price ()</th>\n",
       "      <th>Not Full Market Price</th>\n",
       "      <th>VAT Exclusive</th>\n",
       "      <th>Description of Property</th>\n",
       "      <th>Property Size Description</th>\n",
       "    </tr>\n",
       "  </thead>\n",
       "  <tbody>\n",
       "    <tr>\n",
       "      <th>0</th>\n",
       "      <td>0</td>\n",
       "      <td>17458</td>\n",
       "      <td>20/12/2017</td>\n",
       "      <td>129 Adamstown Way, Adamstown Square, Adamstown</td>\n",
       "      <td>NaN</td>\n",
       "      <td>Dublin</td>\n",
       "      <td>246,696.03</td>\n",
       "      <td>No</td>\n",
       "      <td>Yes</td>\n",
       "      <td>New Dwelling house /Apartment</td>\n",
       "      <td>greater than or equal to 38 sq metres and less...</td>\n",
       "    </tr>\n",
       "    <tr>\n",
       "      <th>1</th>\n",
       "      <td>1</td>\n",
       "      <td>5535</td>\n",
       "      <td>18/05/2017</td>\n",
       "      <td>1 VICTORIA ST, DUBLIN 8, DUBLIN</td>\n",
       "      <td>Dublin 8</td>\n",
       "      <td>Dublin</td>\n",
       "      <td>39,000.00</td>\n",
       "      <td>No</td>\n",
       "      <td>No</td>\n",
       "      <td>Second-Hand Dwelling house /Apartment</td>\n",
       "      <td>NaN</td>\n",
       "    </tr>\n",
       "    <tr>\n",
       "      <th>2</th>\n",
       "      <td>2</td>\n",
       "      <td>7792</td>\n",
       "      <td>06/07/2017</td>\n",
       "      <td>10 EATON SQ, MONKSTOWN, DUBLIN</td>\n",
       "      <td>NaN</td>\n",
       "      <td>Dublin</td>\n",
       "      <td>1,200,000.00</td>\n",
       "      <td>No</td>\n",
       "      <td>No</td>\n",
       "      <td>Second-Hand Dwelling house /Apartment</td>\n",
       "      <td>NaN</td>\n",
       "    </tr>\n",
       "    <tr>\n",
       "      <th>3</th>\n",
       "      <td>3</td>\n",
       "      <td>5303</td>\n",
       "      <td>12/05/2017</td>\n",
       "      <td>179 FOXFIELD GROVE, RAHENY, DUBLIN 5</td>\n",
       "      <td>Dublin 5</td>\n",
       "      <td>Dublin</td>\n",
       "      <td>470,000.00</td>\n",
       "      <td>No</td>\n",
       "      <td>No</td>\n",
       "      <td>Second-Hand Dwelling house /Apartment</td>\n",
       "      <td>NaN</td>\n",
       "    </tr>\n",
       "    <tr>\n",
       "      <th>4</th>\n",
       "      <td>4</td>\n",
       "      <td>6807</td>\n",
       "      <td>16/06/2017</td>\n",
       "      <td>10 APPLEWOOD GARDENS, APPLEWOOD VILLAGE, SWORDS</td>\n",
       "      <td>NaN</td>\n",
       "      <td>Dublin</td>\n",
       "      <td>132,500.00</td>\n",
       "      <td>No</td>\n",
       "      <td>No</td>\n",
       "      <td>Second-Hand Dwelling house /Apartment</td>\n",
       "      <td>NaN</td>\n",
       "    </tr>\n",
       "  </tbody>\n",
       "</table>\n",
       "</div>"
      ],
      "text/plain": [
       "   Unnamed: 0  index Date of Sale (dd/mm/yyyy)  \\\n",
       "0           0  17458                20/12/2017   \n",
       "1           1   5535                18/05/2017   \n",
       "2           2   7792                06/07/2017   \n",
       "3           3   5303                12/05/2017   \n",
       "4           4   6807                16/06/2017   \n",
       "\n",
       "                                           Address Postal Code  County  \\\n",
       "0   129 Adamstown Way, Adamstown Square, Adamstown         NaN  Dublin   \n",
       "1                  1 VICTORIA ST, DUBLIN 8, DUBLIN    Dublin 8  Dublin   \n",
       "2                   10 EATON SQ, MONKSTOWN, DUBLIN         NaN  Dublin   \n",
       "3             179 FOXFIELD GROVE, RAHENY, DUBLIN 5    Dublin 5  Dublin   \n",
       "4  10 APPLEWOOD GARDENS, APPLEWOOD VILLAGE, SWORDS         NaN  Dublin   \n",
       "\n",
       "       Price () Not Full Market Price VAT Exclusive  \\\n",
       "0    246,696.03                    No           Yes   \n",
       "1     39,000.00                    No            No   \n",
       "2  1,200,000.00                    No            No   \n",
       "3    470,000.00                    No            No   \n",
       "4    132,500.00                    No            No   \n",
       "\n",
       "                 Description of Property  \\\n",
       "0          New Dwelling house /Apartment   \n",
       "1  Second-Hand Dwelling house /Apartment   \n",
       "2  Second-Hand Dwelling house /Apartment   \n",
       "3  Second-Hand Dwelling house /Apartment   \n",
       "4  Second-Hand Dwelling house /Apartment   \n",
       "\n",
       "                           Property Size Description  \n",
       "0  greater than or equal to 38 sq metres and less...  \n",
       "1                                                NaN  \n",
       "2                                                NaN  \n",
       "3                                                NaN  \n",
       "4                                                NaN  "
      ]
     },
     "execution_count": 2,
     "metadata": {},
     "output_type": "execute_result"
    }
   ],
   "source": [
    "# Importing the dataset for Ireland\",\n",
    "dataset = pd.read_csv(\"ppr-sample-2017-dublin.csv\", encoding = 'utf-8')\n",
    "dataset.head(5)"
   ]
  },
  {
   "cell_type": "code",
   "execution_count": 3,
   "id": "a5c646f0",
   "metadata": {},
   "outputs": [],
   "source": [
    "dataset=dataset.rename(columns={'Price ()':'Price'})"
   ]
  },
  {
   "cell_type": "code",
   "execution_count": 4,
   "id": "d7ef4e8a",
   "metadata": {},
   "outputs": [
    {
     "data": {
      "text/plain": [
       "Index(['Unnamed: 0', 'index', 'Date of Sale (dd/mm/yyyy)', 'Address',\n",
       "       'Postal Code', 'County', 'Price', 'Not Full Market Price',\n",
       "       'VAT Exclusive', 'Description of Property',\n",
       "       'Property Size Description'],\n",
       "      dtype='object')"
      ]
     },
     "execution_count": 4,
     "metadata": {},
     "output_type": "execute_result"
    }
   ],
   "source": [
    "dataset.columns"
   ]
  },
  {
   "cell_type": "code",
   "execution_count": 5,
   "id": "d0b2d037",
   "metadata": {},
   "outputs": [
    {
     "data": {
      "text/plain": [
       "0         246,696.03\n",
       "1          39,000.00\n",
       "2       1,200,000.00\n",
       "3         470,000.00\n",
       "4         132,500.00\n",
       "            ...      \n",
       "2995      240,000.00\n",
       "2996      427,500.00\n",
       "2997      414,098.00\n",
       "2998      240,000.00\n",
       "2999      292,000.00\n",
       "Name: Price, Length: 3000, dtype: object"
      ]
     },
     "execution_count": 5,
     "metadata": {},
     "output_type": "execute_result"
    }
   ],
   "source": [
    "dataset['Price']"
   ]
  },
  {
   "cell_type": "code",
   "execution_count": 6,
   "id": "d357146b",
   "metadata": {},
   "outputs": [
    {
     "data": {
      "text/html": [
       "<div>\n",
       "<style scoped>\n",
       "    .dataframe tbody tr th:only-of-type {\n",
       "        vertical-align: middle;\n",
       "    }\n",
       "\n",
       "    .dataframe tbody tr th {\n",
       "        vertical-align: top;\n",
       "    }\n",
       "\n",
       "    .dataframe thead th {\n",
       "        text-align: right;\n",
       "    }\n",
       "</style>\n",
       "<table border=\"1\" class=\"dataframe\">\n",
       "  <thead>\n",
       "    <tr style=\"text-align: right;\">\n",
       "      <th></th>\n",
       "      <th>price</th>\n",
       "      <th>area</th>\n",
       "      <th>bedrooms</th>\n",
       "      <th>bathrooms</th>\n",
       "      <th>stories</th>\n",
       "      <th>mainroad</th>\n",
       "      <th>guestroom</th>\n",
       "      <th>basement</th>\n",
       "      <th>hotwaterheating</th>\n",
       "      <th>airconditioning</th>\n",
       "      <th>parking</th>\n",
       "      <th>prefarea</th>\n",
       "      <th>furnishingstatus</th>\n",
       "    </tr>\n",
       "  </thead>\n",
       "  <tbody>\n",
       "    <tr>\n",
       "      <th>0</th>\n",
       "      <td>13300000</td>\n",
       "      <td>7420</td>\n",
       "      <td>4</td>\n",
       "      <td>2</td>\n",
       "      <td>3</td>\n",
       "      <td>yes</td>\n",
       "      <td>no</td>\n",
       "      <td>no</td>\n",
       "      <td>no</td>\n",
       "      <td>yes</td>\n",
       "      <td>2</td>\n",
       "      <td>yes</td>\n",
       "      <td>furnished</td>\n",
       "    </tr>\n",
       "    <tr>\n",
       "      <th>1</th>\n",
       "      <td>12250000</td>\n",
       "      <td>8960</td>\n",
       "      <td>4</td>\n",
       "      <td>4</td>\n",
       "      <td>4</td>\n",
       "      <td>yes</td>\n",
       "      <td>no</td>\n",
       "      <td>no</td>\n",
       "      <td>no</td>\n",
       "      <td>yes</td>\n",
       "      <td>3</td>\n",
       "      <td>no</td>\n",
       "      <td>furnished</td>\n",
       "    </tr>\n",
       "    <tr>\n",
       "      <th>2</th>\n",
       "      <td>12250000</td>\n",
       "      <td>9960</td>\n",
       "      <td>3</td>\n",
       "      <td>2</td>\n",
       "      <td>2</td>\n",
       "      <td>yes</td>\n",
       "      <td>no</td>\n",
       "      <td>yes</td>\n",
       "      <td>no</td>\n",
       "      <td>no</td>\n",
       "      <td>2</td>\n",
       "      <td>yes</td>\n",
       "      <td>semi-furnished</td>\n",
       "    </tr>\n",
       "    <tr>\n",
       "      <th>3</th>\n",
       "      <td>12215000</td>\n",
       "      <td>7500</td>\n",
       "      <td>4</td>\n",
       "      <td>2</td>\n",
       "      <td>2</td>\n",
       "      <td>yes</td>\n",
       "      <td>no</td>\n",
       "      <td>yes</td>\n",
       "      <td>no</td>\n",
       "      <td>yes</td>\n",
       "      <td>3</td>\n",
       "      <td>yes</td>\n",
       "      <td>furnished</td>\n",
       "    </tr>\n",
       "    <tr>\n",
       "      <th>4</th>\n",
       "      <td>11410000</td>\n",
       "      <td>7420</td>\n",
       "      <td>4</td>\n",
       "      <td>1</td>\n",
       "      <td>2</td>\n",
       "      <td>yes</td>\n",
       "      <td>yes</td>\n",
       "      <td>yes</td>\n",
       "      <td>no</td>\n",
       "      <td>yes</td>\n",
       "      <td>2</td>\n",
       "      <td>no</td>\n",
       "      <td>furnished</td>\n",
       "    </tr>\n",
       "  </tbody>\n",
       "</table>\n",
       "</div>"
      ],
      "text/plain": [
       "      price  area  bedrooms  bathrooms  stories mainroad guestroom basement  \\\n",
       "0  13300000  7420         4          2        3      yes        no       no   \n",
       "1  12250000  8960         4          4        4      yes        no       no   \n",
       "2  12250000  9960         3          2        2      yes        no      yes   \n",
       "3  12215000  7500         4          2        2      yes        no      yes   \n",
       "4  11410000  7420         4          1        2      yes       yes      yes   \n",
       "\n",
       "  hotwaterheating airconditioning  parking prefarea furnishingstatus  \n",
       "0              no             yes        2      yes        furnished  \n",
       "1              no             yes        3       no        furnished  \n",
       "2              no              no        2      yes   semi-furnished  \n",
       "3              no             yes        3      yes        furnished  \n",
       "4              no             yes        2       no        furnished  "
      ]
     },
     "execution_count": 6,
     "metadata": {},
     "output_type": "execute_result"
    }
   ],
   "source": [
    "# Importing the dataset for france\",\n",
    "dataset1 = pd.read_csv(\"Housing_france.csv\")\n",
    "dataset1.head(5)"
   ]
  },
  {
   "cell_type": "code",
   "execution_count": 7,
   "id": "b735bd0c",
   "metadata": {},
   "outputs": [
    {
     "data": {
      "text/html": [
       "<div>\n",
       "<style scoped>\n",
       "    .dataframe tbody tr th:only-of-type {\n",
       "        vertical-align: middle;\n",
       "    }\n",
       "\n",
       "    .dataframe tbody tr th {\n",
       "        vertical-align: top;\n",
       "    }\n",
       "\n",
       "    .dataframe thead th {\n",
       "        text-align: right;\n",
       "    }\n",
       "</style>\n",
       "<table border=\"1\" class=\"dataframe\">\n",
       "  <thead>\n",
       "    <tr style=\"text-align: right;\">\n",
       "      <th></th>\n",
       "      <th>price</th>\n",
       "      <th>area</th>\n",
       "      <th>bedrooms</th>\n",
       "      <th>bathrooms</th>\n",
       "      <th>stories</th>\n",
       "      <th>parking</th>\n",
       "    </tr>\n",
       "  </thead>\n",
       "  <tbody>\n",
       "    <tr>\n",
       "      <th>count</th>\n",
       "      <td>5.450000e+02</td>\n",
       "      <td>545.000000</td>\n",
       "      <td>545.000000</td>\n",
       "      <td>545.000000</td>\n",
       "      <td>545.000000</td>\n",
       "      <td>545.000000</td>\n",
       "    </tr>\n",
       "    <tr>\n",
       "      <th>mean</th>\n",
       "      <td>4.766729e+06</td>\n",
       "      <td>5150.541284</td>\n",
       "      <td>2.965138</td>\n",
       "      <td>1.286239</td>\n",
       "      <td>1.805505</td>\n",
       "      <td>0.693578</td>\n",
       "    </tr>\n",
       "    <tr>\n",
       "      <th>std</th>\n",
       "      <td>1.870440e+06</td>\n",
       "      <td>2170.141023</td>\n",
       "      <td>0.738064</td>\n",
       "      <td>0.502470</td>\n",
       "      <td>0.867492</td>\n",
       "      <td>0.861586</td>\n",
       "    </tr>\n",
       "    <tr>\n",
       "      <th>min</th>\n",
       "      <td>1.750000e+06</td>\n",
       "      <td>1650.000000</td>\n",
       "      <td>1.000000</td>\n",
       "      <td>1.000000</td>\n",
       "      <td>1.000000</td>\n",
       "      <td>0.000000</td>\n",
       "    </tr>\n",
       "    <tr>\n",
       "      <th>25%</th>\n",
       "      <td>3.430000e+06</td>\n",
       "      <td>3600.000000</td>\n",
       "      <td>2.000000</td>\n",
       "      <td>1.000000</td>\n",
       "      <td>1.000000</td>\n",
       "      <td>0.000000</td>\n",
       "    </tr>\n",
       "    <tr>\n",
       "      <th>50%</th>\n",
       "      <td>4.340000e+06</td>\n",
       "      <td>4600.000000</td>\n",
       "      <td>3.000000</td>\n",
       "      <td>1.000000</td>\n",
       "      <td>2.000000</td>\n",
       "      <td>0.000000</td>\n",
       "    </tr>\n",
       "    <tr>\n",
       "      <th>75%</th>\n",
       "      <td>5.740000e+06</td>\n",
       "      <td>6360.000000</td>\n",
       "      <td>3.000000</td>\n",
       "      <td>2.000000</td>\n",
       "      <td>2.000000</td>\n",
       "      <td>1.000000</td>\n",
       "    </tr>\n",
       "    <tr>\n",
       "      <th>max</th>\n",
       "      <td>1.330000e+07</td>\n",
       "      <td>16200.000000</td>\n",
       "      <td>6.000000</td>\n",
       "      <td>4.000000</td>\n",
       "      <td>4.000000</td>\n",
       "      <td>3.000000</td>\n",
       "    </tr>\n",
       "  </tbody>\n",
       "</table>\n",
       "</div>"
      ],
      "text/plain": [
       "              price          area    bedrooms   bathrooms     stories  \\\n",
       "count  5.450000e+02    545.000000  545.000000  545.000000  545.000000   \n",
       "mean   4.766729e+06   5150.541284    2.965138    1.286239    1.805505   \n",
       "std    1.870440e+06   2170.141023    0.738064    0.502470    0.867492   \n",
       "min    1.750000e+06   1650.000000    1.000000    1.000000    1.000000   \n",
       "25%    3.430000e+06   3600.000000    2.000000    1.000000    1.000000   \n",
       "50%    4.340000e+06   4600.000000    3.000000    1.000000    2.000000   \n",
       "75%    5.740000e+06   6360.000000    3.000000    2.000000    2.000000   \n",
       "max    1.330000e+07  16200.000000    6.000000    4.000000    4.000000   \n",
       "\n",
       "          parking  \n",
       "count  545.000000  \n",
       "mean     0.693578  \n",
       "std      0.861586  \n",
       "min      0.000000  \n",
       "25%      0.000000  \n",
       "50%      0.000000  \n",
       "75%      1.000000  \n",
       "max      3.000000  "
      ]
     },
     "execution_count": 7,
     "metadata": {},
     "output_type": "execute_result"
    }
   ],
   "source": [
    "dataset1.describe()"
   ]
  },
  {
   "cell_type": "code",
   "execution_count": 8,
   "id": "64a1ce33",
   "metadata": {},
   "outputs": [
    {
     "data": {
      "text/html": [
       "<div>\n",
       "<style scoped>\n",
       "    .dataframe tbody tr th:only-of-type {\n",
       "        vertical-align: middle;\n",
       "    }\n",
       "\n",
       "    .dataframe tbody tr th {\n",
       "        vertical-align: top;\n",
       "    }\n",
       "\n",
       "    .dataframe thead th {\n",
       "        text-align: right;\n",
       "    }\n",
       "</style>\n",
       "<table border=\"1\" class=\"dataframe\">\n",
       "  <thead>\n",
       "    <tr style=\"text-align: right;\">\n",
       "      <th></th>\n",
       "      <th>unique_id</th>\n",
       "      <th>price_paid</th>\n",
       "      <th>deed_date</th>\n",
       "      <th>postcode</th>\n",
       "      <th>property_type</th>\n",
       "      <th>new_build</th>\n",
       "      <th>estate_type</th>\n",
       "      <th>saon</th>\n",
       "      <th>paon</th>\n",
       "      <th>street</th>\n",
       "      <th>locality</th>\n",
       "      <th>town</th>\n",
       "      <th>district</th>\n",
       "      <th>county</th>\n",
       "      <th>transaction_category</th>\n",
       "      <th>linked_data_uri</th>\n",
       "    </tr>\n",
       "  </thead>\n",
       "  <tbody>\n",
       "    <tr>\n",
       "      <th>0</th>\n",
       "      <td>2DD2616C-5474-4C5E-80C8-F0E41F527CA5</td>\n",
       "      <td>41000</td>\n",
       "      <td>1996-05-03</td>\n",
       "      <td>B76 1LF</td>\n",
       "      <td>F</td>\n",
       "      <td>N</td>\n",
       "      <td>L</td>\n",
       "      <td>NaN</td>\n",
       "      <td>25</td>\n",
       "      <td>TRIDENT CLOSE</td>\n",
       "      <td>SUTTON COLDFIELD</td>\n",
       "      <td>SUTTON COLDFIELD</td>\n",
       "      <td>BIRMINGHAM</td>\n",
       "      <td>WEST MIDLANDS</td>\n",
       "      <td>A</td>\n",
       "      <td>http://landregistry.data.gov.uk/data/ppi/trans...</td>\n",
       "    </tr>\n",
       "    <tr>\n",
       "      <th>1</th>\n",
       "      <td>99FD9C12-FB9D-42B3-AB86-61C05B8E7FAD</td>\n",
       "      <td>105000</td>\n",
       "      <td>1996-09-12</td>\n",
       "      <td>B92 8BF</td>\n",
       "      <td>D</td>\n",
       "      <td>Y</td>\n",
       "      <td>F</td>\n",
       "      <td>NaN</td>\n",
       "      <td>10</td>\n",
       "      <td>BURLISH AVENUE</td>\n",
       "      <td>SOLIHULL</td>\n",
       "      <td>SOLIHULL</td>\n",
       "      <td>SOLIHULL</td>\n",
       "      <td>WEST MIDLANDS</td>\n",
       "      <td>A</td>\n",
       "      <td>http://landregistry.data.gov.uk/data/ppi/trans...</td>\n",
       "    </tr>\n",
       "    <tr>\n",
       "      <th>2</th>\n",
       "      <td>5EDD6EA6-7283-4CC3-8035-42A0AE104D21</td>\n",
       "      <td>47950</td>\n",
       "      <td>1996-08-30</td>\n",
       "      <td>BA22 8PU</td>\n",
       "      <td>T</td>\n",
       "      <td>Y</td>\n",
       "      <td>F</td>\n",
       "      <td>NaN</td>\n",
       "      <td>51</td>\n",
       "      <td>FOXGLOVE WAY</td>\n",
       "      <td>YEOVIL</td>\n",
       "      <td>YEOVIL</td>\n",
       "      <td>SOUTH SOMERSET</td>\n",
       "      <td>SOMERSET</td>\n",
       "      <td>A</td>\n",
       "      <td>http://landregistry.data.gov.uk/data/ppi/trans...</td>\n",
       "    </tr>\n",
       "    <tr>\n",
       "      <th>3</th>\n",
       "      <td>2A289E9D-2AD0-CDC8-E050-A8C063054829</td>\n",
       "      <td>4000</td>\n",
       "      <td>1996-06-12</td>\n",
       "      <td>BB2 4JA</td>\n",
       "      <td>T</td>\n",
       "      <td>N</td>\n",
       "      <td>F</td>\n",
       "      <td>NaN</td>\n",
       "      <td>20</td>\n",
       "      <td>NUTTALL STREET</td>\n",
       "      <td>NaN</td>\n",
       "      <td>BLACKBURN</td>\n",
       "      <td>BLACKBURN WITH DARWEN</td>\n",
       "      <td>BLACKBURN WITH DARWEN</td>\n",
       "      <td>A</td>\n",
       "      <td>http://landregistry.data.gov.uk/data/ppi/trans...</td>\n",
       "    </tr>\n",
       "    <tr>\n",
       "      <th>4</th>\n",
       "      <td>3FD95C35-7C37-454E-809E-D7C585D1B1CF</td>\n",
       "      <td>87500</td>\n",
       "      <td>1996-12-16</td>\n",
       "      <td>BH2 5QZ</td>\n",
       "      <td>D</td>\n",
       "      <td>N</td>\n",
       "      <td>F</td>\n",
       "      <td>NaN</td>\n",
       "      <td>27</td>\n",
       "      <td>NORWICH ROAD</td>\n",
       "      <td>BOURNEMOUTH</td>\n",
       "      <td>BOURNEMOUTH</td>\n",
       "      <td>BOURNEMOUTH</td>\n",
       "      <td>BOURNEMOUTH</td>\n",
       "      <td>A</td>\n",
       "      <td>http://landregistry.data.gov.uk/data/ppi/trans...</td>\n",
       "    </tr>\n",
       "  </tbody>\n",
       "</table>\n",
       "</div>"
      ],
      "text/plain": [
       "                              unique_id  price_paid   deed_date  postcode  \\\n",
       "0  2DD2616C-5474-4C5E-80C8-F0E41F527CA5       41000  1996-05-03   B76 1LF   \n",
       "1  99FD9C12-FB9D-42B3-AB86-61C05B8E7FAD      105000  1996-09-12   B92 8BF   \n",
       "2  5EDD6EA6-7283-4CC3-8035-42A0AE104D21       47950  1996-08-30  BA22 8PU   \n",
       "3  2A289E9D-2AD0-CDC8-E050-A8C063054829        4000  1996-06-12   BB2 4JA   \n",
       "4  3FD95C35-7C37-454E-809E-D7C585D1B1CF       87500  1996-12-16   BH2 5QZ   \n",
       "\n",
       "  property_type new_build estate_type saon paon          street  \\\n",
       "0             F         N           L  NaN   25   TRIDENT CLOSE   \n",
       "1             D         Y           F  NaN   10  BURLISH AVENUE   \n",
       "2             T         Y           F  NaN   51    FOXGLOVE WAY   \n",
       "3             T         N           F  NaN   20  NUTTALL STREET   \n",
       "4             D         N           F  NaN   27    NORWICH ROAD   \n",
       "\n",
       "           locality              town               district  \\\n",
       "0  SUTTON COLDFIELD  SUTTON COLDFIELD             BIRMINGHAM   \n",
       "1          SOLIHULL          SOLIHULL               SOLIHULL   \n",
       "2            YEOVIL            YEOVIL         SOUTH SOMERSET   \n",
       "3               NaN         BLACKBURN  BLACKBURN WITH DARWEN   \n",
       "4       BOURNEMOUTH       BOURNEMOUTH            BOURNEMOUTH   \n",
       "\n",
       "                  county transaction_category  \\\n",
       "0          WEST MIDLANDS                    A   \n",
       "1          WEST MIDLANDS                    A   \n",
       "2               SOMERSET                    A   \n",
       "3  BLACKBURN WITH DARWEN                    A   \n",
       "4            BOURNEMOUTH                    A   \n",
       "\n",
       "                                     linked_data_uri  \n",
       "0  http://landregistry.data.gov.uk/data/ppi/trans...  \n",
       "1  http://landregistry.data.gov.uk/data/ppi/trans...  \n",
       "2  http://landregistry.data.gov.uk/data/ppi/trans...  \n",
       "3  http://landregistry.data.gov.uk/data/ppi/trans...  \n",
       "4  http://landregistry.data.gov.uk/data/ppi/trans...  "
      ]
     },
     "execution_count": 8,
     "metadata": {},
     "output_type": "execute_result"
    }
   ],
   "source": [
    "# Importing the dataset for UK\",\n",
    "dataset2= pd.read_csv(\"data_UK.csv\")\n",
    "dataset2.head(5)"
   ]
  },
  {
   "cell_type": "code",
   "execution_count": 9,
   "id": "1056ec2b",
   "metadata": {},
   "outputs": [
    {
     "data": {
      "text/html": [
       "<div>\n",
       "<style scoped>\n",
       "    .dataframe tbody tr th:only-of-type {\n",
       "        vertical-align: middle;\n",
       "    }\n",
       "\n",
       "    .dataframe tbody tr th {\n",
       "        vertical-align: top;\n",
       "    }\n",
       "\n",
       "    .dataframe thead th {\n",
       "        text-align: right;\n",
       "    }\n",
       "</style>\n",
       "<table border=\"1\" class=\"dataframe\">\n",
       "  <thead>\n",
       "    <tr style=\"text-align: right;\">\n",
       "      <th></th>\n",
       "      <th>price_paid</th>\n",
       "    </tr>\n",
       "  </thead>\n",
       "  <tbody>\n",
       "    <tr>\n",
       "      <th>count</th>\n",
       "      <td>100.000000</td>\n",
       "    </tr>\n",
       "    <tr>\n",
       "      <th>mean</th>\n",
       "      <td>72859.350000</td>\n",
       "    </tr>\n",
       "    <tr>\n",
       "      <th>std</th>\n",
       "      <td>55767.459497</td>\n",
       "    </tr>\n",
       "    <tr>\n",
       "      <th>min</th>\n",
       "      <td>4000.000000</td>\n",
       "    </tr>\n",
       "    <tr>\n",
       "      <th>25%</th>\n",
       "      <td>36837.500000</td>\n",
       "    </tr>\n",
       "    <tr>\n",
       "      <th>50%</th>\n",
       "      <td>53225.000000</td>\n",
       "    </tr>\n",
       "    <tr>\n",
       "      <th>75%</th>\n",
       "      <td>87500.000000</td>\n",
       "    </tr>\n",
       "    <tr>\n",
       "      <th>max</th>\n",
       "      <td>312500.000000</td>\n",
       "    </tr>\n",
       "  </tbody>\n",
       "</table>\n",
       "</div>"
      ],
      "text/plain": [
       "          price_paid\n",
       "count     100.000000\n",
       "mean    72859.350000\n",
       "std     55767.459497\n",
       "min      4000.000000\n",
       "25%     36837.500000\n",
       "50%     53225.000000\n",
       "75%     87500.000000\n",
       "max    312500.000000"
      ]
     },
     "execution_count": 9,
     "metadata": {},
     "output_type": "execute_result"
    }
   ],
   "source": [
    "dataset2.describe()"
   ]
  },
  {
   "cell_type": "markdown",
   "id": "63544e6c",
   "metadata": {},
   "source": [
    "# normal distrubution"
   ]
  },
  {
   "cell_type": "code",
   "execution_count": 28,
   "id": "192af1b4",
   "metadata": {},
   "outputs": [
    {
     "name": "stdout",
     "output_type": "stream",
     "text": [
      "4766729.247706422\n"
     ]
    }
   ],
   "source": [
    "xbar_France = dataset1['price'].mean()\n",
    "print(xbar_France)"
   ]
  },
  {
   "cell_type": "code",
   "execution_count": 29,
   "id": "7feb98d3",
   "metadata": {},
   "outputs": [
    {
     "name": "stdout",
     "output_type": "stream",
     "text": [
      "1870439.615657394\n"
     ]
    }
   ],
   "source": [
    "sd_France= dataset1['price'].std()\n",
    "print(sd_France)"
   ]
  },
  {
   "cell_type": "code",
   "execution_count": 12,
   "id": "21283063",
   "metadata": {},
   "outputs": [],
   "source": [
    "x2= -0.00243 #x3 = (x-mu)/sigma standrization step, P(X<1)"
   ]
  },
  {
   "cell_type": "code",
   "execution_count": 13,
   "id": "95567172",
   "metadata": {},
   "outputs": [
    {
     "data": {
      "image/png": "[encoded data removed]",
      "text/plain": [
       "<Figure size 640x480 with 1 Axes>"
      ]
     },
     "metadata": {},
     "output_type": "display_data"
    },
    {
     "data": {
      "text/plain": [
       "<Figure size 640x480 with 0 Axes>"
      ]
     },
     "metadata": {},
     "output_type": "display_data"
    }
   ],
   "source": [
    "%matplotlib inline\n",
    "norm.pdf(x=x2, loc=xbar1, scale=sd1)\n",
    "fig, ax = plt.subplots()\n",
    "x= np.arange(-6,6,0.001)\n",
    "ax.set_title('normal distribution for \"price_paid\" variable')\n",
    "ax.set_xlabel('x')\n",
    "ax.set_ylabel('f(x)=P(x<1)')\n",
    "ax.plot(x, norm.pdf(x))\n",
    "ax.set_ylim(0,0.45)\n",
    "plt.show()\n",
    "norm.dist=plt.savefig('plot.png', dpi=500, bbox_inches='tight')"
   ]
  },
  {
   "cell_type": "code",
   "execution_count": 14,
   "id": "922c312b",
   "metadata": {},
   "outputs": [
    {
     "data": {
      "image/png": "[encoded data removed]",
      "text/plain": [
       "<Figure size 600x300 with 1 Axes>"
      ]
     },
     "metadata": {},
     "output_type": "display_data"
    }
   ],
   "source": [
    "dataset1.price.value_counts().nlargest(20).plot(kind='bar', figsize=(6,3))\n",
    "plt.title(\"price\")\n",
    "plt.ylabel(\"counts\")\n",
    "\n",
    "plt.xlabel(\" units\")\n",
    "NumRes=plt.savefig('plot.png', dpi=300, bbox_inches='tight')"
   ]
  },
  {
   "cell_type": "code",
   "execution_count": 26,
   "id": "a32fba58",
   "metadata": {},
   "outputs": [
    {
     "name": "stdout",
     "output_type": "stream",
     "text": [
      "72859.35\n"
     ]
    }
   ],
   "source": [
    "xbar_Uk = dataset2['price_paid'].mean()\n",
    "print(xbar_Uk)"
   ]
  },
  {
   "cell_type": "code",
   "execution_count": 27,
   "id": "c06ce3e1",
   "metadata": {},
   "outputs": [
    {
     "name": "stdout",
     "output_type": "stream",
     "text": [
      "55767.45949668715\n"
     ]
    }
   ],
   "source": [
    "sd_UK = dataset2['price_paid'].std()\n",
    "print(sd_UK)"
   ]
  },
  {
   "cell_type": "code",
   "execution_count": 17,
   "id": "7b0935a5",
   "metadata": {},
   "outputs": [],
   "source": [
    "x3= -0.00943 #x3 = (x-mu)/sigma standrization step, P(X<1)"
   ]
  },
  {
   "cell_type": "code",
   "execution_count": 18,
   "id": "00a05c4d",
   "metadata": {},
   "outputs": [
    {
     "data": {
      "image/png": "[encoded data removed]",
      "text/plain": [
       "<Figure size 640x480 with 1 Axes>"
      ]
     },
     "metadata": {},
     "output_type": "display_data"
    },
    {
     "data": {
      "text/plain": [
       "<Figure size 640x480 with 0 Axes>"
      ]
     },
     "metadata": {},
     "output_type": "display_data"
    }
   ],
   "source": [
    "%matplotlib inline\n",
    "norm.pdf(x=x3, loc=xbar2, scale=sd2)\n",
    "fig, ax = plt.subplots()\n",
    "x= np.arange(-6,6,0.001)\n",
    "ax.set_title('normal distribution for \"price_paid\" variable')\n",
    "ax.set_xlabel('x')\n",
    "ax.set_ylabel('f(x)=P(x<1)')\n",
    "ax.plot(x, norm.pdf(x))\n",
    "ax.set_ylim(0,0.45)\n",
    "plt.show()\n",
    "norm.dist=plt.savefig('plot.png', dpi=500, bbox_inches='tight')"
   ]
  },
  {
   "cell_type": "code",
   "execution_count": 19,
   "id": "eef19e1f",
   "metadata": {},
   "outputs": [
    {
     "data": {
      "image/png": "[encoded data removed]",
      "text/plain": [
       "<Figure size 600x300 with 1 Axes>"
      ]
     },
     "metadata": {},
     "output_type": "display_data"
    }
   ],
   "source": [
    "dataset2.price_paid.value_counts().nlargest(40).plot(kind='bar', figsize=(6,3))\n",
    "plt.title(\"price_paid \")\n",
    "plt.ylabel(\"counts\")\n",
    "\n",
    "plt.xlabel(\" units\")\n",
    "NumRes=plt.savefig('plot.png', dpi=300, bbox_inches='tight')"
   ]
  },
  {
   "cell_type": "markdown",
   "id": "b245312b",
   "metadata": {},
   "source": [
    "# Infrential stats"
   ]
  },
  {
   "cell_type": "markdown",
   "id": "7684ab66",
   "metadata": {},
   "source": [
    "the datasets are independent from each other."
   ]
  },
  {
   "cell_type": "markdown",
   "id": "4d9d29f6",
   "metadata": {},
   "source": [
    "# T-test"
   ]
  },
  {
   "cell_type": "markdown",
   "id": "065f1e38",
   "metadata": {},
   "source": [
    "# Performing a t-test to compare  houses prices in Ireland and France:"
   ]
  },
  {
   "cell_type": "code",
   "execution_count": 20,
   "id": "672d9668",
   "metadata": {},
   "outputs": [],
   "source": [
    "dataset['Price'] = dataset['Price'].map(lambda x: x.lstrip('').rstrip('-+_').replace(',',''))"
   ]
  },
  {
   "cell_type": "code",
   "execution_count": 21,
   "id": "185a9fdf",
   "metadata": {},
   "outputs": [],
   "source": [
    "dataset['Price']=dataset['Price'].astype(float)"
   ]
  },
  {
   "cell_type": "code",
   "execution_count": 30,
   "id": "59e61b76",
   "metadata": {},
   "outputs": [
    {
     "name": "stdout",
     "output_type": "stream",
     "text": [
      "421632.369733333\n"
     ]
    }
   ],
   "source": [
    "xbar_Ireland = dataset['Price'].mean()\n",
    "print(xbar_Ireland)"
   ]
  },
  {
   "cell_type": "code",
   "execution_count": 31,
   "id": "c1700820",
   "metadata": {},
   "outputs": [
    {
     "name": "stdout",
     "output_type": "stream",
     "text": [
      "723300.211132891\n"
     ]
    }
   ],
   "source": [
    "std_Ireland = dataset['Price'].std()\n",
    "print(std_Ireland)"
   ]
  },
  {
   "cell_type": "markdown",
   "id": "afd050a3",
   "metadata": {},
   "source": [
    "-for dataset for prices in Ireland we pick a sample of n=10,  std =723300.21 , mean=421632.36  significance $\\\\$ level 95%\n",
    "-for dataset for prices in France we pick a sample of n=12,  std =1870439.61 , mean=4766729  significance level 95% $\\\\$\n",
    "- Substituting the critical values: the number of degrees of freedom = 20, and the alpha = 0.025 in the app to ge x= 2.423 $\\\\$\n",
    "-The hypothsis are H0: the mean values for the tow populations are equal mu1 = mu2 $\\\\$\n",
    "                   H1: the mean vlaues for the tow populations are different mu1 =! mu2 \n",
    "$S\\bar = 2.146098362×10¹²$ calculated form the formula: $ \\frac{n_{1} S_{1}^{2}+n_{2}S_{2}^{2}}{(n_{2}+n_{2})}$, t claclualted form the app to be x = 2.423,then, to find t we use the formula : $\\frac{(421632.36 -4766729)-(mu1-mu2)}{\\sqrt{\\frac{1}{10}+\\frac{1}{12}*2.146098362×10¹²}} = −6.927139716$        \n",
    "note: taking the H0 the term (mu1-mu2) = 0"
   ]
  },
  {
   "cell_type": "markdown",
   "id": "43e0d63b",
   "metadata": {},
   "source": [
    "We accept H0 if t < -2.423 or t > 2.423 $\\\\$\n",
    "We reject H0 if  -2.423 <= t <= 2.423 $\\\\$\n",
    "We found t < - 2.423 hence, we reject H0. The interpretaion there is enough evidence at 5% significance level to say that there are significant differences between prices of houses in France and Ireland."
   ]
  },
  {
   "cell_type": "markdown",
   "id": "a7bfdf5a",
   "metadata": {},
   "source": [
    "# Performing a t-test to compare  houses prices in Ireland and UK:"
   ]
  },
  {
   "cell_type": "markdown",
   "id": "ef12b196",
   "metadata": {},
   "source": [
    "-for dataset for prices in $\\bf{Ireland}$ we pick a sample of n=10,  std =723300.21 , mean=421632.36  significance $\\\\$ level 95%\n",
    "-for dataset for prices in $\\bf{UK}$ we pick a sample of n=12,  std =55767.4594, mean=72859.35  significance level 95% $\\\\$\n",
    "- Substituting the critical values: the number of degrees of freedom = 20, and the alpha = 0.025 in the app to ge x= 2.423 $\\\\$\n",
    "-The hypothsis are H0: the mean values for the tow populations are equal mu1 = mu2 $\\\\$\n",
    "                   H1: the mean vlaues for the tow populations are different mu1 =! mu2 \n",
    "$S\\bar = 5.268952052×10¹²$ calculated form the formula: $ \\frac{n_{1} S_{1}^{2}+n_{2}S_{2}^{2}}{(n_{2}+n_{2})}$, t claclualted form the app to be x = 2.423,then, to find t we use the formula : $\\frac{(421632.36 -4766729)-(mu1-mu2)}{\\sqrt{\\frac{1}{10}+\\frac{1}{12}*2.146098362×10¹²}} = 982840.0393$       \n",
    "note: taking the H0 the term (mu1-mu2) = 0"
   ]
  },
  {
   "cell_type": "markdown",
   "id": "1268f54a",
   "metadata": {},
   "source": [
    "We accept H0 if t < -2.423 or t > 2.423 $\\\\$\n",
    "We reject H0 if  -2.423 <= t <= 2.423 $\\\\$\n",
    "\n",
    "We found $t > 2.423$ hence, we accept H0. The interpretaion there is enough evidence at 5% significance level to say that there are  no significant differences between prices of houses in UK and Ireland."
   ]
  },
  {
   "cell_type": "code",
   "execution_count": 47,
   "id": "7ae1d7b7",
   "metadata": {},
   "outputs": [
    {
     "data": {
      "text/plain": [
       "<Figure size 640x480 with 0 Axes>"
      ]
     },
     "execution_count": 47,
     "metadata": {},
     "output_type": "execute_result"
    },
    {
     "data": {
      "image/png": "[encoded data removed]",
      "text/plain": [
       "<Figure size 640x480 with 1 Axes>"
      ]
     },
     "metadata": {},
     "output_type": "display_data"
    },
    {
     "data": {
      "text/plain": [
       "<Figure size 640x480 with 0 Axes>"
      ]
     },
     "metadata": {},
     "output_type": "display_data"
    }
   ],
   "source": [
    "#Normality plot. Our variable is \"charges\"\n",
    "\n",
    "stats.probplot(dataset1.price, plot=plt)\n",
    "plt.figure()"
   ]
  },
  {
   "cell_type": "code",
   "execution_count": 48,
   "id": "5e8a0ef4",
   "metadata": {},
   "outputs": [
    {
     "data": {
      "text/plain": [
       "<Figure size 640x480 with 0 Axes>"
      ]
     },
     "execution_count": 48,
     "metadata": {},
     "output_type": "execute_result"
    },
    {
     "data": {
      "image/png": "[encoded data removed]",
      "text/plain": [
       "<Figure size 640x480 with 1 Axes>"
      ]
     },
     "metadata": {},
     "output_type": "display_data"
    },
    {
     "data": {
      "text/plain": [
       "<Figure size 640x480 with 0 Axes>"
      ]
     },
     "metadata": {},
     "output_type": "display_data"
    }
   ],
   "source": [
    "stats.probplot(dataset2.price_paid, plot=plt)\n",
    "plt.figure()"
   ]
  },
  {
   "cell_type": "markdown",
   "id": "775a63c6",
   "metadata": {},
   "source": [
    "# Confidance interval"
   ]
  },
  {
   "cell_type": "code",
   "execution_count": 89,
   "id": "80026ec9",
   "metadata": {},
   "outputs": [
    {
     "name": "stderr",
     "output_type": "stream",
     "text": [
      "/tmp/ipykernel_95483/2781001028.py:2: DeprecationWarning: Use of keyword argument `alpha` for method `interval` is deprecated. Use first positional argument or keyword argument `confidence` instead.\n",
      "  st.t.interval(alpha=0.95, df=len(dataset['price'])-1, loc=np.mean(dataset['price']), scale=st.sem(dataset['price']))\n"
     ]
    },
    {
     "data": {
      "text/plain": [
       "(4609345.1502212, 4924113.345191644)"
      ]
     },
     "execution_count": 89,
     "metadata": {},
     "output_type": "execute_result"
    }
   ],
   "source": [
    "#create 95% confidence interval for population mean for prices in France.\n",
    "st.t.interval(alpha=0.95, df=len(dataset1['price'])-1, loc=np.mean(dataset1['price']), scale=st.sem(dataset['price'])) "
   ]
  },
  {
   "cell_type": "code",
   "execution_count": 91,
   "id": "56222296",
   "metadata": {},
   "outputs": [
    {
     "name": "stderr",
     "output_type": "stream",
     "text": [
      "/tmp/ipykernel_95483/2378166645.py:2: DeprecationWarning: Use of keyword argument `alpha` for method `interval` is deprecated. Use first positional argument or keyword argument `confidence` instead.\n",
      "  st.t.interval(alpha=0.95, df=len(dataset2['price_paid'])-1, loc=np.mean(dataset2['price_paid']), scale=st.sem(dataset2['price_paid']))\n"
     ]
    },
    {
     "data": {
      "text/plain": [
       "(61793.87615240995, 83924.82384759007)"
      ]
     },
     "execution_count": 91,
     "metadata": {},
     "output_type": "execute_result"
    }
   ],
   "source": [
    "#create 95% confidence interval for population mean for prices in UK.\n",
    "st.t.interval(alpha=0.95, df=len(dataset2['price_paid'])-1, loc=np.mean(dataset2['price_paid']), scale=st.sem(dataset2['price_paid'])) "
   ]
  },
  {
   "cell_type": "markdown",
   "id": "8c985780",
   "metadata": {},
   "source": [
    "# Shapiro test "
   ]
  },
  {
   "cell_type": "markdown",
   "id": "eb6c9ce3",
   "metadata": {},
   "source": [
    "Shapiro test ://\n",
    "H0: the data comes form normal distrubtion\n",
    "H1: the data doesnt come form a normal distrubtion"
   ]
  },
  {
   "cell_type": "code",
   "execution_count": 50,
   "id": "6d1b3b63",
   "metadata": {},
   "outputs": [
    {
     "data": {
      "text/plain": [
       "ShapiroResult(statistic=0.9216305613517761, pvalue=3.1544150171394466e-16)"
      ]
     },
     "execution_count": 50,
     "metadata": {},
     "output_type": "execute_result"
    }
   ],
   "source": [
    "#Shapiro wilk test\n",
    "\n",
    "stats.shapiro(dataset1.price)"
   ]
  },
  {
   "cell_type": "markdown",
   "id": "7cceb3ec",
   "metadata": {},
   "source": [
    " alpha is 0.05 and pvalue is 3.15 that means the data is normal distributed the null hypothesis is accepted."
   ]
  },
  {
   "cell_type": "code",
   "execution_count": 51,
   "id": "b43b85c6",
   "metadata": {},
   "outputs": [
    {
     "data": {
      "text/plain": [
       "ShapiroResult(statistic=0.7911132574081421, pvalue=1.3329140569062758e-10)"
      ]
     },
     "execution_count": 51,
     "metadata": {},
     "output_type": "execute_result"
    }
   ],
   "source": [
    "stats.shapiro(dataset2.price_paid)"
   ]
  },
  {
   "cell_type": "markdown",
   "id": "d62ddb19",
   "metadata": {},
   "source": [
    " alpha is 0.05 and pvalue is 3.15 that means the data is normal distributed the null hypothesis is accepted."
   ]
  },
  {
   "cell_type": "markdown",
   "id": "2d990d0e",
   "metadata": {},
   "source": [
    "Homogenity of the variances:\n",
    "H0 = the variances between the contries are equal\n",
    "H1= the variances between the contries are not equal\n"
   ]
  },
  {
   "cell_type": "code",
   "execution_count": 52,
   "id": "db942402",
   "metadata": {},
   "outputs": [],
   "source": [
    "std11 = dataset1['price'].std"
   ]
  },
  {
   "cell_type": "code",
   "execution_count": 53,
   "id": "0bbac305",
   "metadata": {},
   "outputs": [],
   "source": [
    "std22 = dataset2['price_paid'].std"
   ]
  },
  {
   "cell_type": "code",
   "execution_count": 54,
   "id": "cacbd02f",
   "metadata": {},
   "outputs": [],
   "source": [
    "#Homogeinity of variance: Levene's test\n",
    "\n",
    "from scipy.stats import levene\n"
   ]
  },
  {
   "cell_type": "code",
   "execution_count": 55,
   "id": "42a71bbc",
   "metadata": {},
   "outputs": [
    {
     "data": {
      "text/plain": [
       "LeveneResult(statistic=138.15614860505622, pvalue=4.9588098417380324e-29)"
      ]
     },
     "execution_count": 55,
     "metadata": {},
     "output_type": "execute_result"
    }
   ],
   "source": [
    "levene(dataset['price'], dataset2['price_paid'], center = 'mean')"
   ]
  },
  {
   "cell_type": "markdown",
   "id": "aa8c435b",
   "metadata": {},
   "source": [
    "Pvalue is =4.9 which is greater than alpha i.e we accept the null hypothesis: the variance between the countries are equal."
   ]
  },
  {
   "cell_type": "code",
   "execution_count": 63,
   "id": "b96141b0",
   "metadata": {},
   "outputs": [
    {
     "name": "stdout",
     "output_type": "stream",
     "text": [
      "             df        sum_sq       mean_sq           F        PR(>F)\n",
      "price       1.0  7.360378e+08  7.360378e+08  218.884081  7.388225e-42\n",
      "Residual  543.0  1.825937e+09  3.362683e+06         NaN           NaN\n"
     ]
    }
   ],
   "source": [
    "#ONE-WAY ANOVA\n",
    "model = ols('area~price', data = dataset1).fit()\n",
    "aov = sm.stats.anova_lm(model, type=2)\n",
    "print(aov)"
   ]
  },
  {
   "cell_type": "markdown",
   "id": "967cdf99",
   "metadata": {},
   "source": [
    "df(degrees of freedom) is 2-1 = 1, the pvlaue is  7.388 so we accept the null hyposthesis. "
   ]
  },
  {
   "cell_type": "markdown",
   "id": "bc29c284",
   "metadata": {},
   "source": [
    "# non parametric test"
   ]
  },
  {
   "cell_type": "code",
   "execution_count": null,
   "id": "49ccd4b1",
   "metadata": {},
   "outputs": [],
   "source": []
  },
  {
   "cell_type": "code",
   "execution_count": 82,
   "id": "2dead62a",
   "metadata": {},
   "outputs": [
    {
     "name": "stdout",
     "output_type": "stream",
     "text": [
      "             df        sum_sq       mean_sq           F        PR(>F)\n",
      "area        1.0  5.467787e+14  5.467787e+14  232.691402  5.675360e-44\n",
      "parking     1.0  8.283690e+13  8.283690e+13   35.252720  5.175349e-09\n",
      "Residual  542.0  1.273593e+15  2.349802e+12         NaN           NaN\n"
     ]
    }
   ],
   "source": [
    "#ANOVA TWO WAYS\n",
    "model2 = ols('price~area+parking', data = dataset1).fit()\n",
    "aov2 = sm.stats.anova_lm(model2, type=2)\n",
    "print(aov2)"
   ]
  },
  {
   "cell_type": "markdown",
   "id": "4ab04388",
   "metadata": {},
   "source": [
    "pvalue is > 0.05 alpha we accept the null hypothese"
   ]
  },
  {
   "cell_type": "markdown",
   "id": "e4ed951d",
   "metadata": {},
   "source": [
    "# U-mann test"
   ]
  },
  {
   "cell_type": "markdown",
   "id": "bc209e97",
   "metadata": {},
   "source": [
    "U-mann test between france and Ireland because it works with tow pops and the nunit of measurment should be the same."
   ]
  },
  {
   "cell_type": "code",
   "execution_count": 32,
   "id": "9652249f",
   "metadata": {},
   "outputs": [],
   "source": [
    "from scipy.stats import mannwhitneyu"
   ]
  },
  {
   "cell_type": "code",
   "execution_count": 33,
   "id": "ca66cccf",
   "metadata": {},
   "outputs": [
    {
     "data": {
      "text/plain": [
       "MannwhitneyuResult(statistic=3098.5, pvalue=1.7135586226027644e-300)"
      ]
     },
     "execution_count": 33,
     "metadata": {},
     "output_type": "execute_result"
    }
   ],
   "source": [
    "mannwhitneyu(dataset['Price'],dataset1['price'])"
   ]
  },
  {
   "cell_type": "markdown",
   "id": "7a8eb9ea",
   "metadata": {},
   "source": [
    "The pvlaue is greater than 0.05 i.e we can accept the null hypothises that there is no difference bteween prices in Ireland and France. "
   ]
  },
  {
   "cell_type": "code",
   "execution_count": null,
   "id": "88c1e950",
   "metadata": {},
   "outputs": [],
   "source": []
  }
 ],
 "metadata": {
  "kernelspec": {
   "display_name": "Python 3 (ipykernel)",
   "language": "python",
   "name": "python3"
  },
  "language_info": {
   "codemirror_mode": {
    "name": "ipython",
    "version": 3
   },
   "file_extension": ".py",
   "mimetype": "text/x-python",
   "name": "python",
   "nbconvert_exporter": "python",
   "pygments_lexer": "ipython3",
   "version": "3.9.13"
  }
 },
 "nbformat": 4,
 "nbformat_minor": 5
}
